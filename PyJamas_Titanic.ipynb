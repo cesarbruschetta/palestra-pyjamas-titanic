{
  "nbformat": 4,
  "nbformat_minor": 0,
  "metadata": {
    "colab": {
      "name": "PyJamas-Titanic.ipynb",
      "provenance": [],
      "collapsed_sections": []
    },
    "kernelspec": {
      "name": "python3",
      "display_name": "Python 3"
    }
  },
  "cells": [
    {
      "cell_type": "markdown",
      "metadata": {
        "id": "zW_yDwSRGvI_",
        "colab_type": "text"
      },
      "source": [
        "# Fazendo Analise de dados SÓ com Python (Just Python)\n",
        "\n",
        "Vamos fazer uma pequena demonstração... vamos analisar o dataset do naufrágio do Titanic somente com Python sem utilizar nenhuma lib ou framework.\n",
        "\n",
        "Assim deixando com curiosidade para conhecer ou como funcionam as famosas bibliotecas de análise de dados em python e tambem conhecer mais sobre o que é possível fazer fazer somente com python.\n",
        "\n",
        "----\n",
        "*Dataset originalmente diponibilizado na Kaggle [Titanic: Machine Learning from Disaster](https://www.kaggle.com/c/titanic).*\n",
        "\n",
        "----\n",
        "\n",
        "Autor: [Cesar Bruschetta](https://www.linkedin.com/in/cesarbruschetta/)\n"
      ]
    },
    {
      "cell_type": "markdown",
      "metadata": {
        "id": "w0P99smdHc5J",
        "colab_type": "text"
      },
      "source": [
        "### Import dos Modulos"
      ]
    },
    {
      "cell_type": "code",
      "metadata": {
        "id": "XB5kfEv9XvNN",
        "colab_type": "code",
        "colab": {}
      },
      "source": [
        "# Modulos básicos para leitura do DataSet\n",
        "import csv\n",
        "import io\n",
        "import urllib"
      ],
      "execution_count": 0,
      "outputs": []
    },
    {
      "cell_type": "code",
      "metadata": {
        "id": "XP7ZpYZCrqZ2",
        "colab_type": "code",
        "colab": {}
      },
      "source": [
        "# Modulo para cálculos e manipulação de Iterables\n",
        "import statistics\n",
        "from itertools import groupby\n",
        "from operator import itemgetter\n",
        "from functools import partial"
      ],
      "execution_count": 0,
      "outputs": []
    },
    {
      "cell_type": "markdown",
      "metadata": {
        "id": "GdoOQnc-KUae",
        "colab_type": "text"
      },
      "source": [
        "### Leitura do DataSet"
      ]
    },
    {
      "cell_type": "code",
      "metadata": {
        "id": "y6RnpOzGYVSO",
        "colab_type": "code",
        "colab": {}
      },
      "source": [
        "# URL do CSV do dados do passageiro do Titanic\n",
        "url_dataFrame = \"https://raw.githubusercontent.com/datasciencedojo/datasets/master/titanic.csv\"\n",
        "\n",
        "# Recebendo os dados do URL\n",
        "with urllib.request.urlopen(url_dataFrame) as handler:\n",
        "    data = io.StringIO(handler.read().decode())       \n",
        "\n",
        "# Carregando dados do CSV e converter o obj `DictReader` para uma lista\n",
        "reader = list(csv.DictReader(data))"
      ],
      "execution_count": 0,
      "outputs": []
    },
    {
      "cell_type": "markdown",
      "metadata": {
        "id": "vWbA-zBIK3PY",
        "colab_type": "text"
      },
      "source": [
        "### Exibição dos primeiro dados do DataSet (*Like a df.head()*)"
      ]
    },
    {
      "cell_type": "code",
      "metadata": {
        "id": "_4yHwD-McVf_",
        "colab_type": "code",
        "outputId": "1938a28d-b405-4399-e6ff-d5777552dab1",
        "colab": {
          "base_uri": "https://localhost:8080/",
          "height": 105
        }
      },
      "source": [
        "for i in reader[1:5]:\n",
        "    print(i)"
      ],
      "execution_count": 0,
      "outputs": [
        {
          "output_type": "stream",
          "text": [
            "OrderedDict([('PassengerId', '2'), ('Survived', '1'), ('Pclass', '1'), ('Name', 'Cumings, Mrs. John Bradley (Florence Briggs Thayer)'), ('Sex', 'female'), ('Age', '38'), ('SibSp', '1'), ('Parch', '0'), ('Ticket', 'PC 17599'), ('Fare', '71.2833'), ('Cabin', 'C85'), ('Embarked', 'C')])\n",
            "OrderedDict([('PassengerId', '3'), ('Survived', '1'), ('Pclass', '3'), ('Name', 'Heikkinen, Miss. Laina'), ('Sex', 'female'), ('Age', '26'), ('SibSp', '0'), ('Parch', '0'), ('Ticket', 'STON/O2. 3101282'), ('Fare', '7.925'), ('Cabin', ''), ('Embarked', 'S')])\n",
            "OrderedDict([('PassengerId', '4'), ('Survived', '1'), ('Pclass', '1'), ('Name', 'Futrelle, Mrs. Jacques Heath (Lily May Peel)'), ('Sex', 'female'), ('Age', '35'), ('SibSp', '1'), ('Parch', '0'), ('Ticket', '113803'), ('Fare', '53.1'), ('Cabin', 'C123'), ('Embarked', 'S')])\n",
            "OrderedDict([('PassengerId', '5'), ('Survived', '0'), ('Pclass', '3'), ('Name', 'Allen, Mr. William Henry'), ('Sex', 'male'), ('Age', '35'), ('SibSp', '0'), ('Parch', '0'), ('Ticket', '373450'), ('Fare', '8.05'), ('Cabin', ''), ('Embarked', 'S')])\n"
          ],
          "name": "stdout"
        }
      ]
    },
    {
      "cell_type": "markdown",
      "metadata": {
        "id": "ecTxBFzJM0ID",
        "colab_type": "text"
      },
      "source": [
        "### Dados Principais Absolutos\n"
      ]
    },
    {
      "cell_type": "code",
      "metadata": {
        "colab_type": "code",
        "outputId": "19b2e60f-9ec0-4288-ec89-322c468d21a6",
        "id": "cmOxLb_HShcE",
        "colab": {
          "base_uri": "https://localhost:8080/",
          "height": 119
        }
      },
      "source": [
        "total_passageiros = len(reader)\n",
        "\n",
        "total_male = len(list(filter(lambda i: i[\"Sex\"] == \"male\", reader)))\n",
        "\n",
        "total_female = len(list(filter(lambda i: i[\"Sex\"] == \"female\", reader)))\n",
        "\n",
        "total_1_classe = len(list(filter(lambda i: i[\"Pclass\"] == \"1\", reader)))\n",
        "\n",
        "total_2_classe = len(list(filter(lambda i: i[\"Pclass\"] == \"2\", reader)))\n",
        "\n",
        "total_3_classe = len(list(filter(lambda i: i[\"Pclass\"] == \"3\", reader)))\n",
        "\n",
        "print(\n",
        "    f\"Total de passageiros: \\t\\t\\t{total_passageiros}\\n\"\n",
        "    f\"Total de passageiros Homens: \\t\\t{total_male}\\n\"\n",
        "    f\"Total de passageiros Mulheres: \\t\\t{total_female}\\n\"\n",
        "    f\"Total de passageiros na 1º classe: \\t\\t{total_1_classe}\\n\"\n",
        "    f\"Total de passageiros na 2º classe: \\t\\t{total_2_classe}\\n\"\n",
        "    f\"Total de passageiros na 3º classe: \\t\\t{total_3_classe}\"\n",
        "    )"
      ],
      "execution_count": 0,
      "outputs": [
        {
          "output_type": "stream",
          "text": [
            "Total de passageiros: \t\t\t891\n",
            "Total de passageiros Homens: \t\t577\n",
            "Total de passageiros Mulheres: \t\t314\n",
            "Total de passageiros na 1º classe: \t\t216\n",
            "Total de passageiros na 2º classe: \t\t184\n",
            "Total de passageiros na 3º classe: \t\t491\n"
          ],
          "name": "stdout"
        }
      ]
    },
    {
      "cell_type": "markdown",
      "metadata": {
        "id": "_rkEKUecRnZ6",
        "colab_type": "text"
      },
      "source": [
        "Dados Principais em Proporção *(%)*"
      ]
    },
    {
      "cell_type": "code",
      "metadata": {
        "id": "7G1n62Q6hU81",
        "colab_type": "code",
        "outputId": "588b9c0e-5895-4533-c19d-3d558870b947",
        "colab": {
          "base_uri": "https://localhost:8080/",
          "height": 102
        }
      },
      "source": [
        "# Função de calcular a porcentagem e arredondar para 2 casas decimais\n",
        "calc_percentil = partial(\n",
        "    lambda d,t: round(( d * 100 ) / t, 2), \n",
        "    t=total_passageiros\n",
        ")\n",
        "\n",
        "porcent_total_male = calc_percentil(total_male)\n",
        "porcent_total_female = calc_percentil(total_female)\n",
        "porcent_total_1_classe = calc_percentil(total_1_classe)\n",
        "porcent_total_2_classe = calc_percentil(total_2_classe)\n",
        "porcent_total_3_classe = calc_percentil(total_3_classe)\n",
        "\n",
        "print(\n",
        "    f\"Porcentagem de passageiros Homens: \\t\\t{porcent_total_male}\\n\"\n",
        "    f\"Porcentagem de passageiros Mulheres: \\t\\t{porcent_total_female}\\n\"\n",
        "    f\"Porcentagem de passageiros na 1º classe \\t{porcent_total_1_classe}\\n\"\n",
        "    f\"Porcentagem de passageiros na 2º classe \\t{porcent_total_2_classe}\\n\"\n",
        "    f\"Porcentagem de passageiros na 3º classe \\t{porcent_total_3_classe}\"\n",
        ")"
      ],
      "execution_count": 0,
      "outputs": [
        {
          "output_type": "stream",
          "text": [
            "Porcentagem de passageiros Homens: \t\t64.76\n",
            "Porcentagem de passageiros Mulheres: \t\t35.24\n",
            "Porcentagem de passageiros na 1º classe \t24.24\n",
            "Porcentagem de passageiros na 2º classe \t20.65\n",
            "Porcentagem de passageiros na 3º classe \t55.11\n"
          ],
          "name": "stdout"
        }
      ]
    },
    {
      "cell_type": "markdown",
      "metadata": {
        "id": "2K9d3DrfVT5w",
        "colab_type": "text"
      },
      "source": [
        "### Analise dos Sobreviventes "
      ]
    },
    {
      "cell_type": "code",
      "metadata": {
        "id": "Z6nHqZ3NkegC",
        "colab_type": "code",
        "outputId": "de8f504d-9e16-4b75-c57c-ded8364cc4d3",
        "colab": {
          "base_uri": "https://localhost:8080/",
          "height": 51
        }
      },
      "source": [
        "# Absolutos\n",
        "survived = len(list(filter(lambda i: i[\"Survived\"] == \"1\", reader)))\n",
        "\n",
        "not_survived = len(list(filter(lambda i: i[\"Survived\"] == \"0\", reader)))\n",
        "\n",
        "# porcentagem \n",
        "porcent_survived = calc_percentil(survived)\n",
        "porcent_not_survived = calc_percentil(not_survived)\n",
        "\n",
        "print(\n",
        "    f\"Sobreviventes: \\t\\t{survived} ({porcent_survived}%)\\n\"\n",
        "    f\"Não sobreviventes: \\t{not_survived} ({porcent_not_survived}%)\"\n",
        ")"
      ],
      "execution_count": 0,
      "outputs": [
        {
          "output_type": "stream",
          "text": [
            "Sobreviventes: \t\t342 (38.38%)\n",
            "Não sobreviventes: \t549 (61.62%)\n"
          ],
          "name": "stdout"
        }
      ]
    },
    {
      "cell_type": "markdown",
      "metadata": {
        "id": "OcVO9M3sWmvw",
        "colab_type": "text"
      },
      "source": [
        "### Analise dos Dados Agrupados"
      ]
    },
    {
      "cell_type": "code",
      "metadata": {
        "id": "2CFpNHG5yI7s",
        "colab_type": "code",
        "outputId": "9905d947-01a0-44b8-9ade-4583940c994c",
        "colab": {
          "base_uri": "https://localhost:8080/",
          "height": 85
        }
      },
      "source": [
        "# Função para calculara a porcentagem dos sobreviventes\n",
        "calc_percentil_survived = partial(\n",
        "    lambda d,t: round(( d * 100 ) / t, 2), \n",
        "    t=survived\n",
        ")\n",
        "\n",
        "# Função para calculara a porcentagem dos Não sobreviventes\n",
        "calc_percentil_not_survived = partial(\n",
        "    lambda d,t: round(( d * 100 ) / t, 2), \n",
        "    t=not_survived\n",
        ")\n",
        "\n",
        "# Função para buscar 2 chaves no dicionario e usar como agrupamento\n",
        "key_f = itemgetter(\"Survived\", \"Sex\") \n",
        "\n",
        "# Pulo do Gato ( deve estar ordenado e remover a ultima linha que é o \"cabeçalho\")\n",
        "reader = sorted(reader, key=key_f)[:-1]\n",
        "\n",
        " # Agrupa todas as linhas que tem o mesmo valor na coluna (\"Survived\", \"Sex\")\n",
        "groups_class = groupby(reader, key_f)\n",
        "\n",
        "for i, items in groups_class:\n",
        "    count = len(list(items))\n",
        "    print (\"Survived: \", i, \"\\t\" , count, \"\\t\" , \n",
        "           calc_percentil_survived(count) \n",
        "           if int(i[0]) else calc_percentil_not_survived(count), \"%\")\n"
      ],
      "execution_count": 0,
      "outputs": [
        {
          "output_type": "stream",
          "text": [
            "Survived:  ('0', 'female') \t 81 \t 14.75 %\n",
            "Survived:  ('0', 'male') \t 468 \t 85.25 %\n",
            "Survived:  ('1', 'female') \t 233 \t 68.13 %\n",
            "Survived:  ('1', 'male') \t 108 \t 31.58 %\n"
          ],
          "name": "stdout"
        }
      ]
    },
    {
      "cell_type": "markdown",
      "metadata": {
        "id": "DcgvwO4i_dTA",
        "colab_type": "text"
      },
      "source": [
        "### Visualização dos dados\n",
        "\n",
        "Para visualização do dados em formato de grafico eu utilizei uma projeto que achei no GitHub que segue a mesma ideia da nossa aprentação..., usar somente python\n",
        "\n",
        "```\n",
        "PlainChart\n",
        "\n",
        "A text-based, no-dependencies, pip-installable, open-source charting utility in Python.\n",
        "```\n",
        "https://github.com/gduverger/plainchart\n"
      ]
    },
    {
      "cell_type": "code",
      "metadata": {
        "id": "k0LM3X1gZ3hd",
        "colab_type": "code",
        "outputId": "edba8839-7370-45d8-d3dc-bc022f2b23ff",
        "colab": {
          "base_uri": "https://localhost:8080/",
          "height": 34
        }
      },
      "source": [
        "# Mecanismo para clonar o reporitorio externo no no Colab\n",
        "# Isso pode depender do mecanismo utilizado para executar no Notebook\n",
        "\n",
        "!git clone https://github.com/gduverger/plainchart.git"
      ],
      "execution_count": 0,
      "outputs": [
        {
          "output_type": "stream",
          "text": [
            "fatal: destination path 'plainchart' already exists and is not an empty directory.\n"
          ],
          "name": "stdout"
        }
      ]
    },
    {
      "cell_type": "code",
      "metadata": {
        "id": "EfOrg1gtY9oA",
        "colab_type": "code",
        "colab": {}
      },
      "source": [
        "# Adicionando o pasta do projeto `plainchart` ao sys.path\n",
        "# para que o python reconheça e possa carregar\n",
        "\n",
        "import sys\n",
        "sys.path.append('/content/plainchart/plainchart')\n",
        "\n",
        "# Carregando o Modulo do `PlainChart`\n",
        "import json\n",
        "import plainchart"
      ],
      "execution_count": 0,
      "outputs": []
    },
    {
      "cell_type": "code",
      "metadata": {
        "id": "LMUQmHpUWCjz",
        "colab_type": "code",
        "outputId": "4bda12f5-d0bb-458f-a77b-93be2c36ad89",
        "colab": {
          "base_uri": "https://localhost:8080/",
          "height": 51
        }
      },
      "source": [
        "# Agrupando a Idade dos passageiros\n",
        "key_f = itemgetter(\"Age\") \n",
        "reader = sorted(reader, key=key_f)[:-1]\n",
        "groups_ages = groupby(reader, key_f)\n",
        "\n",
        "# Grupos Absolutos \n",
        "passengers_age = {\n",
        "    float(i): len(list(items)) \n",
        "    for i, items in groups_ages\n",
        "    if i \n",
        "}\n",
        "print(\"Exemplo:\")\n",
        "print(\"Quantidade de Passageiros com 10 anos: \", passengers_age[10.0])"
      ],
      "execution_count": 0,
      "outputs": [
        {
          "output_type": "stream",
          "text": [
            "Exemplo:\n",
            "Quantidade de Passageiros com 10 anos:  2\n"
          ],
          "name": "stdout"
        }
      ]
    },
    {
      "cell_type": "code",
      "metadata": {
        "id": "XiGNRv28nVFr",
        "colab_type": "code",
        "colab": {}
      },
      "source": [
        "# Função para agrupamentos das Chaves do dicionario `passengers_age``\n",
        "# Essa função retornara uma lista de lista com as chaves de 0-9 \n",
        "# EX:\n",
        "# [[10.0, 11.0, 12.0, 13.0, 14.0, 14.5, 15.0, 16.0, 17.0, 18.0, 19.0],\n",
        "# [20.0, 21.5, 25.0 29.0]]\n",
        "\n",
        "def group_by_10s(mylist):\n",
        "    result = []\n",
        "    decade = -1\n",
        "    for i in sorted(mylist):\n",
        "        while i // 10 != decade:\n",
        "            result.append([])\n",
        "            decade += 1\n",
        "        result[-1].append(i)\n",
        "    return result"
      ],
      "execution_count": 0,
      "outputs": []
    },
    {
      "cell_type": "code",
      "metadata": {
        "id": "DvtOUvNYoOmp",
        "colab_type": "code",
        "cellView": "code",
        "outputId": "cc068cc5-bd77-4060-bdbe-e6fcbe3eaea8",
        "colab": {
          "base_uri": "https://localhost:8080/",
          "height": 374
        }
      },
      "source": [
        "# Agrupando as Idades e o valores do Passageiros do Titanic\n",
        "\n",
        "labels = group_by_10s(passengers_age.keys())\n",
        "\n",
        "age = {\n",
        "    \"%s - %s\" %(l[0],l[-1]) : sum(\n",
        "        [ passengers_age[i] for i in l ]\n",
        "    )\n",
        "    for l in labels\n",
        "}\n",
        "\n",
        "# Carregando o Grafico \n",
        "chart = plainchart.PlainChart(age.values())\n",
        "print(chart.render())\n",
        "\n",
        "print(json.dumps(\n",
        "    age, indent=4\n",
        "))"
      ],
      "execution_count": 0,
      "outputs": [
        {
          "output_type": "stream",
          "text": [
            "  ▌      \n",
            "  ▌      \n",
            "  ▌▌     \n",
            "  ▌▌     \n",
            "  ▌▌     \n",
            " ▌▌▌     \n",
            " ▌▌▌▌    \n",
            "▌▌▌▌▌    \n",
            "▌▌▌▌▌▌   \n",
            "▌▌▌▌▌▌▌  \n",
            "{\n",
            "    \"0.42 - 9.0\": 61,\n",
            "    \"10.0 - 19.0\": 102,\n",
            "    \"20.0 - 29.0\": 219,\n",
            "    \"30.0 - 39.0\": 167,\n",
            "    \"40.0 - 49.0\": 89,\n",
            "    \"50.0 - 59.0\": 48,\n",
            "    \"60.0 - 66.0\": 19,\n",
            "    \"70.0 - 74.0\": 6,\n",
            "    \"80.0 - 80.0\": 1\n",
            "}\n"
          ],
          "name": "stdout"
        }
      ]
    }
  ]
}